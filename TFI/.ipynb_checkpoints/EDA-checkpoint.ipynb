{
 "metadata": {
  "name": ""
 },
 "nbformat": 3,
 "nbformat_minor": 0,
 "worksheets": [
  {
   "cells": [
    {
     "cell_type": "code",
     "collapsed": false,
     "input": [
      "from ggplot import *\n",
      "import pandas as pd\n",
      "import numpy as np"
     ],
     "language": "python",
     "metadata": {},
     "outputs": [],
     "prompt_number": 1
    },
    {
     "cell_type": "code",
     "collapsed": false,
     "input": [
      "from extras import load_params\n",
      "from pandas import read_csv,DataFrame\n",
      "import os\n",
      "import numpy as np\n",
      "\n",
      "def init_transforms(data):\n",
      "    data[\"City\"] = data[\"City\"].apply(lambda x:str(x))\n",
      "    data[\"is_big_city\"] = data[\"City Group\"].apply(lambda x:int(x==\"Big Cities\"))\n",
      "    data[\"start_year\"] = data[\"Open Date\"].apply(lambda x:int(x[6:]))\n",
      "    data[\"start_month\"] = data[\"Open Date\"].apply(lambda x:int(x[:2]))\n",
      "    data[\"start_day\"] = data[\"Open Date\"].apply(lambda x:int(x[3:5]))\n",
      "    data[\"num_years\"] = data[\"start_year\"].apply(lambda x:2015 - x)\n",
      "    data[\"num_months\"] = data[\"num_years\"].apply(lambda x:x*12) - data[\"start_month\"].apply(lambda x:12-x)\n",
      "    data[\"Type_FC\"] = data[\"Type\"].apply(lambda x:int(x==\"FC\"))\n",
      "    data[\"Type_IL\"] = data[\"Type\"].apply(lambda x:int(x==\"IL\"))\n",
      "    data[\"Type_DT\"] = data[\"Type\"].apply(lambda x:int(x==\"DT\"))\n",
      "    data[\"Type_MB\"] = data[\"Type\"].apply(lambda x:int(x==\"MB\"))\n",
      "    data = data.drop([\"Id\",\"City\",\"City Group\",\"Open Date\",\n",
      "                      \"Type\"],axis=1)\n",
      "    return data"
     ],
     "language": "python",
     "metadata": {},
     "outputs": [],
     "prompt_number": 2
    },
    {
     "cell_type": "code",
     "collapsed": false,
     "input": [
      "def load_data(data_type,shuffle=True):\n",
      "    assert(data_type == \"train\" or data_type == \"test\" or data_type == \"cv\")\n",
      "    if data_type == \"cv\":   data_type = \"train\"\n",
      "    path = os.path.join(load_params().data_dir,data_type + \".csv\")\n",
      "    data = read_csv(path)\n",
      "    # print data.columns.values\n",
      "    if data_type != \"test\":\n",
      "        if shuffle: data = data.reindex(np.random.permutation(data.index))\n",
      "        y = data.revenue.values\n",
      "        data = data.drop([\"revenue\"],axis=1)\n",
      "        data = init_transforms(data)\n",
      "        return data,y\n",
      "        #X = data.as_matrix()\n",
      "        #return np.log(X + 1),y\n",
      "    else:\n",
      "        data = init_transforms(data)\n",
      "        return data\n",
      "        #X = data.as_matrix()\n",
      "        #return np.log(X + 1)"
     ],
     "language": "python",
     "metadata": {},
     "outputs": [],
     "prompt_number": 8
    },
    {
     "cell_type": "code",
     "collapsed": false,
     "input": [
      "X,y = load_data(\"train\")\n",
      "print X"
     ],
     "language": "python",
     "metadata": {},
     "outputs": [
      {
       "output_type": "stream",
       "stream": "stdout",
       "text": [
        "None\n"
       ]
      }
     ],
     "prompt_number": 6
    },
    {
     "cell_type": "code",
     "collapsed": false,
     "input": [],
     "language": "python",
     "metadata": {},
     "outputs": []
    }
   ],
   "metadata": {}
  }
 ]
}